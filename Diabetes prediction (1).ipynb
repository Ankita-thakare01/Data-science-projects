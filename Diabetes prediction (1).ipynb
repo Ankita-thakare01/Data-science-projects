{
 "cells": [
  {
   "cell_type": "markdown",
   "id": "c2db312d",
   "metadata": {},
   "source": [
    "# Diabetes Prediction ( A comparative approch using machine learning)"
   ]
  },
  {
   "cell_type": "markdown",
   "id": "1957fdb9",
   "metadata": {},
   "source": [
    "### Motivation\n",
    "\n",
    "* Approximately 537 million people all over the world have been diagnosed with diabetes. The diabetes is not curable, and its ill-effects continue till the lifetime of patient. Hence, it is better to predict rather than treat the disease.It is highly appreciable when diabetes is predicted in advance. As students of Data Science ,I can work with any kind of data. Taking advantage of this, I decided to do this project in order to predict if a particular observation is at a risk of developing diabetes."
   ]
  },
  {
   "cell_type": "markdown",
   "id": "fe3feb06",
   "metadata": {},
   "source": [
    "### Objective\n",
    "\n",
    "* The main objective of project is to build a machine learning model to accurately predict whether the patients in the dataset have diabetes or not."
   ]
  },
  {
   "cell_type": "markdown",
   "id": "bca61f8b",
   "metadata": {},
   "source": [
    "### Data Set\n",
    "\n",
    "* Data Source :  https://www.kaggle.com\n",
    "* The dataset is all about females patients of at least 21 years old.\n",
    "* The objective of the dataset is to diagnostically predict whether the patient has diabetes.\n",
    "* Dataset is consists of 768 observations and 9 variables such as Pregnancies, Glucose, BloodPressure, SkinThickness, Insulin,\n",
    "  BMI, DiabetesPedigreeFunction, Age, Outcome.\n",
    "* We will directly use the outcome variable as our target variable.\n",
    "   * Outcome: To express the final result 1 is Yes (Diabetic) and 0 is No (non diabetic).\n"
   ]
  },
  {
   "cell_type": "code",
   "execution_count": 1,
   "id": "d6ac0dbd",
   "metadata": {},
   "outputs": [],
   "source": [
    "import numpy as np                                     #  library used for working with arrays\n",
    "import matplotlib.pyplot as plt                        #  create,plot,decorate figures\n",
    "import seaborn as sns                                  #  data visualization\n",
    "import pandas as pd                                    #  working with table data\n",
    "sns.set_style('darkgrid')                              #  setting styles\n",
    "import warnings\n",
    "warnings.filterwarnings('ignore')                        # ignore warnings"
   ]
  },
  {
   "cell_type": "code",
   "execution_count": 2,
   "id": "444b0f20",
   "metadata": {},
   "outputs": [
    {
     "data": {
      "text/html": [
       "<div>\n",
       "<style scoped>\n",
       "    .dataframe tbody tr th:only-of-type {\n",
       "        vertical-align: middle;\n",
       "    }\n",
       "\n",
       "    .dataframe tbody tr th {\n",
       "        vertical-align: top;\n",
       "    }\n",
       "\n",
       "    .dataframe thead th {\n",
       "        text-align: right;\n",
       "    }\n",
       "</style>\n",
       "<table border=\"1\" class=\"dataframe\">\n",
       "  <thead>\n",
       "    <tr style=\"text-align: right;\">\n",
       "      <th></th>\n",
       "      <th>Pregnancies</th>\n",
       "      <th>Glucose</th>\n",
       "      <th>BloodPressure</th>\n",
       "      <th>SkinThickness</th>\n",
       "      <th>Insulin</th>\n",
       "      <th>BMI</th>\n",
       "      <th>DiabetesPedigreeFunction</th>\n",
       "      <th>Age</th>\n",
       "      <th>Outcome</th>\n",
       "    </tr>\n",
       "  </thead>\n",
       "  <tbody>\n",
       "    <tr>\n",
       "      <th>0</th>\n",
       "      <td>6</td>\n",
       "      <td>148.0</td>\n",
       "      <td>72.0</td>\n",
       "      <td>35.0</td>\n",
       "      <td>NaN</td>\n",
       "      <td>33.6</td>\n",
       "      <td>0.627</td>\n",
       "      <td>50</td>\n",
       "      <td>1</td>\n",
       "    </tr>\n",
       "    <tr>\n",
       "      <th>1</th>\n",
       "      <td>1</td>\n",
       "      <td>85.0</td>\n",
       "      <td>66.0</td>\n",
       "      <td>29.0</td>\n",
       "      <td>NaN</td>\n",
       "      <td>26.6</td>\n",
       "      <td>0.351</td>\n",
       "      <td>31</td>\n",
       "      <td>0</td>\n",
       "    </tr>\n",
       "    <tr>\n",
       "      <th>2</th>\n",
       "      <td>8</td>\n",
       "      <td>183.0</td>\n",
       "      <td>64.0</td>\n",
       "      <td>NaN</td>\n",
       "      <td>NaN</td>\n",
       "      <td>23.3</td>\n",
       "      <td>0.672</td>\n",
       "      <td>32</td>\n",
       "      <td>1</td>\n",
       "    </tr>\n",
       "    <tr>\n",
       "      <th>3</th>\n",
       "      <td>1</td>\n",
       "      <td>89.0</td>\n",
       "      <td>66.0</td>\n",
       "      <td>23.0</td>\n",
       "      <td>94.0</td>\n",
       "      <td>28.1</td>\n",
       "      <td>0.167</td>\n",
       "      <td>21</td>\n",
       "      <td>0</td>\n",
       "    </tr>\n",
       "    <tr>\n",
       "      <th>4</th>\n",
       "      <td>0</td>\n",
       "      <td>137.0</td>\n",
       "      <td>40.0</td>\n",
       "      <td>35.0</td>\n",
       "      <td>168.0</td>\n",
       "      <td>43.1</td>\n",
       "      <td>2.288</td>\n",
       "      <td>33</td>\n",
       "      <td>1</td>\n",
       "    </tr>\n",
       "  </tbody>\n",
       "</table>\n",
       "</div>"
      ],
      "text/plain": [
       "   Pregnancies  Glucose  BloodPressure  SkinThickness  Insulin   BMI  \\\n",
       "0            6    148.0           72.0           35.0      NaN  33.6   \n",
       "1            1     85.0           66.0           29.0      NaN  26.6   \n",
       "2            8    183.0           64.0            NaN      NaN  23.3   \n",
       "3            1     89.0           66.0           23.0     94.0  28.1   \n",
       "4            0    137.0           40.0           35.0    168.0  43.1   \n",
       "\n",
       "   DiabetesPedigreeFunction  Age  Outcome  \n",
       "0                     0.627   50        1  \n",
       "1                     0.351   31        0  \n",
       "2                     0.672   32        1  \n",
       "3                     0.167   21        0  \n",
       "4                     2.288   33        1  "
      ]
     },
     "execution_count": 2,
     "metadata": {},
     "output_type": "execute_result"
    }
   ],
   "source": [
    "df=pd.read_csv(r'D:\\Data science IL\\project\\diabetes_Data_.csv')\n",
    "df.head()"
   ]
  },
  {
   "cell_type": "code",
   "execution_count": 3,
   "id": "d7d0d721",
   "metadata": {},
   "outputs": [
    {
     "name": "stdout",
     "output_type": "stream",
     "text": [
      "Shape of Data is==> (768, 9)\n"
     ]
    }
   ],
   "source": [
    "print(\"Shape of Data is==>\",df.shape)"
   ]
  },
  {
   "cell_type": "code",
   "execution_count": 4,
   "id": "df1c0385",
   "metadata": {},
   "outputs": [
    {
     "name": "stdout",
     "output_type": "stream",
     "text": [
      "Pregnancies\n",
      "Glucose\n",
      "BloodPressure\n",
      "SkinThickness\n",
      "Insulin\n",
      "BMI\n",
      "DiabetesPedigreeFunction\n",
      "Age\n",
      "Outcome\n"
     ]
    }
   ],
   "source": [
    "for i in df.columns:                        # variable names\n",
    "    print(i) "
   ]
  },
  {
   "cell_type": "code",
   "execution_count": 5,
   "id": "fba73bc8",
   "metadata": {},
   "outputs": [],
   "source": [
    "x=pd.DataFrame(columns=['Pregnancies', \n",
    "'Glucose', 'BloodPressure', 'SkinThickness', 'Insulin', 'BMI', 'Age'])"
   ]
  },
  {
   "cell_type": "code",
   "execution_count": 6,
   "id": "780ade71",
   "metadata": {},
   "outputs": [
    {
     "data": {
      "text/html": [
       "<div>\n",
       "<style scoped>\n",
       "    .dataframe tbody tr th:only-of-type {\n",
       "        vertical-align: middle;\n",
       "    }\n",
       "\n",
       "    .dataframe tbody tr th {\n",
       "        vertical-align: top;\n",
       "    }\n",
       "\n",
       "    .dataframe thead th {\n",
       "        text-align: right;\n",
       "    }\n",
       "</style>\n",
       "<table border=\"1\" class=\"dataframe\">\n",
       "  <thead>\n",
       "    <tr style=\"text-align: right;\">\n",
       "      <th></th>\n",
       "      <th>Pregnancies</th>\n",
       "      <th>Glucose</th>\n",
       "      <th>BloodPressure</th>\n",
       "      <th>SkinThickness</th>\n",
       "      <th>Insulin</th>\n",
       "      <th>BMI</th>\n",
       "      <th>DPF</th>\n",
       "      <th>Age</th>\n",
       "      <th>Outcome</th>\n",
       "    </tr>\n",
       "  </thead>\n",
       "  <tbody>\n",
       "    <tr>\n",
       "      <th>0</th>\n",
       "      <td>6</td>\n",
       "      <td>148.0</td>\n",
       "      <td>72.0</td>\n",
       "      <td>35.0</td>\n",
       "      <td>NaN</td>\n",
       "      <td>33.6</td>\n",
       "      <td>0.627</td>\n",
       "      <td>50</td>\n",
       "      <td>1</td>\n",
       "    </tr>\n",
       "    <tr>\n",
       "      <th>1</th>\n",
       "      <td>1</td>\n",
       "      <td>85.0</td>\n",
       "      <td>66.0</td>\n",
       "      <td>29.0</td>\n",
       "      <td>NaN</td>\n",
       "      <td>26.6</td>\n",
       "      <td>0.351</td>\n",
       "      <td>31</td>\n",
       "      <td>0</td>\n",
       "    </tr>\n",
       "    <tr>\n",
       "      <th>2</th>\n",
       "      <td>8</td>\n",
       "      <td>183.0</td>\n",
       "      <td>64.0</td>\n",
       "      <td>NaN</td>\n",
       "      <td>NaN</td>\n",
       "      <td>23.3</td>\n",
       "      <td>0.672</td>\n",
       "      <td>32</td>\n",
       "      <td>1</td>\n",
       "    </tr>\n",
       "    <tr>\n",
       "      <th>3</th>\n",
       "      <td>1</td>\n",
       "      <td>89.0</td>\n",
       "      <td>66.0</td>\n",
       "      <td>23.0</td>\n",
       "      <td>94.0</td>\n",
       "      <td>28.1</td>\n",
       "      <td>0.167</td>\n",
       "      <td>21</td>\n",
       "      <td>0</td>\n",
       "    </tr>\n",
       "    <tr>\n",
       "      <th>4</th>\n",
       "      <td>0</td>\n",
       "      <td>137.0</td>\n",
       "      <td>40.0</td>\n",
       "      <td>35.0</td>\n",
       "      <td>168.0</td>\n",
       "      <td>43.1</td>\n",
       "      <td>2.288</td>\n",
       "      <td>33</td>\n",
       "      <td>1</td>\n",
       "    </tr>\n",
       "  </tbody>\n",
       "</table>\n",
       "</div>"
      ],
      "text/plain": [
       "   Pregnancies  Glucose  BloodPressure  SkinThickness  Insulin   BMI    DPF  \\\n",
       "0            6    148.0           72.0           35.0      NaN  33.6  0.627   \n",
       "1            1     85.0           66.0           29.0      NaN  26.6  0.351   \n",
       "2            8    183.0           64.0            NaN      NaN  23.3  0.672   \n",
       "3            1     89.0           66.0           23.0     94.0  28.1  0.167   \n",
       "4            0    137.0           40.0           35.0    168.0  43.1  2.288   \n",
       "\n",
       "   Age  Outcome  \n",
       "0   50        1  \n",
       "1   31        0  \n",
       "2   32        1  \n",
       "3   21        0  \n",
       "4   33        1  "
      ]
     },
     "execution_count": 6,
     "metadata": {},
     "output_type": "execute_result"
    }
   ],
   "source": [
    " df.rename({'DiabetesPedigreeFunction':'DPF'},inplace=True,axis=1)\n",
    "df.head()"
   ]
  },
  {
   "cell_type": "markdown",
   "id": "aa9fa59d",
   "metadata": {},
   "source": [
    "## Missing value analysis\n",
    "\n",
    "* 📌 Checking if there are any NULL values.\n"
   ]
  },
  {
   "cell_type": "code",
   "execution_count": 7,
   "id": "74d9ded2",
   "metadata": {},
   "outputs": [
    {
     "data": {
      "text/plain": [
       "Pregnancies        0\n",
       "Glucose            2\n",
       "BloodPressure     10\n",
       "SkinThickness     83\n",
       "Insulin          138\n",
       "BMI                6\n",
       "DPF                0\n",
       "Age                0\n",
       "Outcome            0\n",
       "dtype: int64"
      ]
     },
     "execution_count": 7,
     "metadata": {},
     "output_type": "execute_result"
    }
   ],
   "source": [
    "df.isnull().sum()                               # this will show the number of missing values."
   ]
  },
  {
   "cell_type": "code",
   "execution_count": 8,
   "id": "ca7fa64c",
   "metadata": {},
   "outputs": [
    {
     "data": {
      "text/plain": [
       "Series([], dtype: int64)"
      ]
     },
     "execution_count": 8,
     "metadata": {},
     "output_type": "execute_result"
    }
   ],
   "source": [
    "df.isnull().sum()[df.isnull().sum()*100/df.shape[0]>40]"
   ]
  },
  {
   "cell_type": "code",
   "execution_count": 9,
   "id": "816a4c70",
   "metadata": {},
   "outputs": [
    {
     "data": {
      "text/html": [
       "<div>\n",
       "<style scoped>\n",
       "    .dataframe tbody tr th:only-of-type {\n",
       "        vertical-align: middle;\n",
       "    }\n",
       "\n",
       "    .dataframe tbody tr th {\n",
       "        vertical-align: top;\n",
       "    }\n",
       "\n",
       "    .dataframe thead th {\n",
       "        text-align: right;\n",
       "    }\n",
       "</style>\n",
       "<table border=\"1\" class=\"dataframe\">\n",
       "  <thead>\n",
       "    <tr style=\"text-align: right;\">\n",
       "      <th></th>\n",
       "      <th>Pregnancies</th>\n",
       "      <th>Glucose</th>\n",
       "      <th>BloodPressure</th>\n",
       "      <th>SkinThickness</th>\n",
       "      <th>Insulin</th>\n",
       "      <th>BMI</th>\n",
       "      <th>DPF</th>\n",
       "      <th>Age</th>\n",
       "      <th>Outcome</th>\n",
       "    </tr>\n",
       "  </thead>\n",
       "  <tbody>\n",
       "    <tr>\n",
       "      <th>count</th>\n",
       "      <td>768.000000</td>\n",
       "      <td>766.000000</td>\n",
       "      <td>758.000000</td>\n",
       "      <td>685.000000</td>\n",
       "      <td>630.000000</td>\n",
       "      <td>762.000000</td>\n",
       "      <td>768.000000</td>\n",
       "      <td>768.000000</td>\n",
       "      <td>768.000000</td>\n",
       "    </tr>\n",
       "    <tr>\n",
       "      <th>mean</th>\n",
       "      <td>3.845052</td>\n",
       "      <td>121.683660</td>\n",
       "      <td>72.391821</td>\n",
       "      <td>27.345658</td>\n",
       "      <td>113.761905</td>\n",
       "      <td>32.454413</td>\n",
       "      <td>0.471876</td>\n",
       "      <td>33.240885</td>\n",
       "      <td>0.348958</td>\n",
       "    </tr>\n",
       "    <tr>\n",
       "      <th>std</th>\n",
       "      <td>3.369578</td>\n",
       "      <td>30.475749</td>\n",
       "      <td>12.176196</td>\n",
       "      <td>9.947559</td>\n",
       "      <td>108.324692</td>\n",
       "      <td>6.902303</td>\n",
       "      <td>0.331329</td>\n",
       "      <td>11.760232</td>\n",
       "      <td>0.476951</td>\n",
       "    </tr>\n",
       "    <tr>\n",
       "      <th>min</th>\n",
       "      <td>0.000000</td>\n",
       "      <td>44.000000</td>\n",
       "      <td>24.000000</td>\n",
       "      <td>7.000000</td>\n",
       "      <td>14.000000</td>\n",
       "      <td>18.200000</td>\n",
       "      <td>0.078000</td>\n",
       "      <td>21.000000</td>\n",
       "      <td>0.000000</td>\n",
       "    </tr>\n",
       "    <tr>\n",
       "      <th>25%</th>\n",
       "      <td>1.000000</td>\n",
       "      <td>99.250000</td>\n",
       "      <td>64.000000</td>\n",
       "      <td>20.554000</td>\n",
       "      <td>44.000000</td>\n",
       "      <td>27.500000</td>\n",
       "      <td>0.243750</td>\n",
       "      <td>24.000000</td>\n",
       "      <td>0.000000</td>\n",
       "    </tr>\n",
       "    <tr>\n",
       "      <th>50%</th>\n",
       "      <td>3.000000</td>\n",
       "      <td>117.000000</td>\n",
       "      <td>72.000000</td>\n",
       "      <td>25.000000</td>\n",
       "      <td>69.000000</td>\n",
       "      <td>32.150000</td>\n",
       "      <td>0.372500</td>\n",
       "      <td>29.000000</td>\n",
       "      <td>0.000000</td>\n",
       "    </tr>\n",
       "    <tr>\n",
       "      <th>75%</th>\n",
       "      <td>6.000000</td>\n",
       "      <td>140.750000</td>\n",
       "      <td>80.000000</td>\n",
       "      <td>33.000000</td>\n",
       "      <td>145.750000</td>\n",
       "      <td>36.600000</td>\n",
       "      <td>0.626250</td>\n",
       "      <td>41.000000</td>\n",
       "      <td>1.000000</td>\n",
       "    </tr>\n",
       "    <tr>\n",
       "      <th>max</th>\n",
       "      <td>17.000000</td>\n",
       "      <td>199.000000</td>\n",
       "      <td>122.000000</td>\n",
       "      <td>99.000000</td>\n",
       "      <td>846.000000</td>\n",
       "      <td>67.100000</td>\n",
       "      <td>2.420000</td>\n",
       "      <td>81.000000</td>\n",
       "      <td>1.000000</td>\n",
       "    </tr>\n",
       "  </tbody>\n",
       "</table>\n",
       "</div>"
      ],
      "text/plain": [
       "       Pregnancies     Glucose  BloodPressure  SkinThickness     Insulin  \\\n",
       "count   768.000000  766.000000     758.000000     685.000000  630.000000   \n",
       "mean      3.845052  121.683660      72.391821      27.345658  113.761905   \n",
       "std       3.369578   30.475749      12.176196       9.947559  108.324692   \n",
       "min       0.000000   44.000000      24.000000       7.000000   14.000000   \n",
       "25%       1.000000   99.250000      64.000000      20.554000   44.000000   \n",
       "50%       3.000000  117.000000      72.000000      25.000000   69.000000   \n",
       "75%       6.000000  140.750000      80.000000      33.000000  145.750000   \n",
       "max      17.000000  199.000000     122.000000      99.000000  846.000000   \n",
       "\n",
       "              BMI         DPF         Age     Outcome  \n",
       "count  762.000000  768.000000  768.000000  768.000000  \n",
       "mean    32.454413    0.471876   33.240885    0.348958  \n",
       "std      6.902303    0.331329   11.760232    0.476951  \n",
       "min     18.200000    0.078000   21.000000    0.000000  \n",
       "25%     27.500000    0.243750   24.000000    0.000000  \n",
       "50%     32.150000    0.372500   29.000000    0.000000  \n",
       "75%     36.600000    0.626250   41.000000    1.000000  \n",
       "max     67.100000    2.420000   81.000000    1.000000  "
      ]
     },
     "execution_count": 9,
     "metadata": {},
     "output_type": "execute_result"
    }
   ],
   "source": [
    "df.describe()"
   ]
  },
  {
   "cell_type": "code",
   "execution_count": 10,
   "id": "803b9414",
   "metadata": {},
   "outputs": [
    {
     "data": {
      "image/png": "[encoded data removed]",
      "text/plain": [
       "<Figure size 720x720 with 9 Axes>"
      ]
     },
     "metadata": {
      "needs_background": "light"
     },
     "output_type": "display_data"
    }
   ],
   "source": [
    "df.hist(figsize = (10,10));                  # Tells us the distribution of each column"
   ]
  },
  {
   "cell_type": "markdown",
   "id": "671d97d6",
   "metadata": {},
   "source": [
    "  #### #\n",
    "* Here we have seen the distribution of each features whether it is normal distribution or not.\n",
    "* If the distribution is normal then we will replace the null values with mean\n",
    "* If the distribution is not normal then we will replace the null values with median.\n",
    "#### #"
   ]
  },
  {
   "cell_type": "code",
   "execution_count": 11,
   "id": "3e0ea4c5",
   "metadata": {},
   "outputs": [],
   "source": [
    "df.Glucose.fillna(df.Glucose.mean(),inplace=True)\n",
    "df.BloodPressure.fillna(df.BloodPressure.mean(),inplace=True)\n",
    "df.SkinThickness.fillna(df.SkinThickness.median(),inplace=True)\n",
    "df.Insulin.fillna(df.Insulin.median(),inplace=True)\n",
    "df.BMI.fillna(df.BMI.mean(),inplace=True)"
   ]
  },
  {
   "cell_type": "code",
   "execution_count": 12,
   "id": "21faf383",
   "metadata": {},
   "outputs": [
    {
     "data": {
      "text/plain": [
       "Pregnancies      0\n",
       "Glucose          0\n",
       "BloodPressure    0\n",
       "SkinThickness    0\n",
       "Insulin          0\n",
       "BMI              0\n",
       "DPF              0\n",
       "Age              0\n",
       "Outcome          0\n",
       "dtype: int64"
      ]
     },
     "execution_count": 12,
     "metadata": {},
     "output_type": "execute_result"
    }
   ],
   "source": [
    "df.isnull().sum()"
   ]
  },
  {
   "cell_type": "code",
   "execution_count": 13,
   "id": "859bed53",
   "metadata": {},
   "outputs": [
    {
     "data": {
      "text/plain": [
       "Series([], dtype: object)"
      ]
     },
     "execution_count": 13,
     "metadata": {},
     "output_type": "execute_result"
    }
   ],
   "source": [
    "df.dtypes[df.dtypes=='object'] "
   ]
  },
  {
   "cell_type": "code",
   "execution_count": 14,
   "id": "48055649",
   "metadata": {},
   "outputs": [
    {
     "data": {
      "text/plain": [
       "0    500\n",
       "1    268\n",
       "Name: Outcome, dtype: int64"
      ]
     },
     "execution_count": 14,
     "metadata": {},
     "output_type": "execute_result"
    }
   ],
   "source": [
    "df.Outcome.value_counts()"
   ]
  },
  {
   "cell_type": "code",
   "execution_count": 15,
   "id": "d0f514b6",
   "metadata": {},
   "outputs": [
    {
     "data": {
      "text/plain": [
       "<Axes: xlabel='Outcome', ylabel='count'>"
      ]
     },
     "execution_count": 15,
     "metadata": {},
     "output_type": "execute_result"
    },
    {
     "data": {
      "image/png": "[encoded data removed]",
      "text/plain": [
       "<Figure size 432x288 with 1 Axes>"
      ]
     },
     "metadata": {
      "needs_background": "light"
     },
     "output_type": "display_data"
    }
   ],
   "source": [
    "sns.countplot(x='Outcome',data =df)"
   ]
  },
  {
   "cell_type": "code",
   "execution_count": 16,
   "id": "217961ce",
   "metadata": {},
   "outputs": [
    {
     "data": {
      "text/plain": [
       "Text(0.5, 1.0, 'PIE CHART')"
      ]
     },
     "execution_count": 16,
     "metadata": {},
     "output_type": "execute_result"
    },
    {
     "data": {
      "image/png": "[encoded data removed]",
      "text/plain": [
       "<Figure size 432x288 with 1 Axes>"
      ]
     },
     "metadata": {},
     "output_type": "display_data"
    }
   ],
   "source": [
    "df.groupby('Outcome').size().plot(kind='pie', autopct='%.2f').set_title('PIE CHART')"
   ]
  },
  {
   "cell_type": "markdown",
   "id": "44298ee2",
   "metadata": {},
   "source": [
    "#### # \n",
    "* from the count plot and bar plot we can say that around 65.10% of the people are Non diabetic and 34.90% are Diabetic.\n",
    "* There is a class imbalance so to overcome that we will do oversampling\n",
    "#### #"
   ]
  },
  {
   "cell_type": "code",
   "execution_count": 17,
   "id": "88d68ac3",
   "metadata": {},
   "outputs": [],
   "source": [
    "from sklearn.model_selection import train_test_split \n",
    "\n",
    "train,test = train_test_split(df,test_size = 0.2)"
   ]
  },
  {
   "cell_type": "code",
   "execution_count": 18,
   "id": "e5c9ca01",
   "metadata": {},
   "outputs": [],
   "source": [
    "df_os = train[train.Outcome == 1]\n",
    "\n",
    "train1 = pd.concat([train , df_os])                      # oversampling "
   ]
  },
  {
   "cell_type": "code",
   "execution_count": 19,
   "id": "858853ea",
   "metadata": {},
   "outputs": [],
   "source": [
    "train = train1"
   ]
  },
  {
   "cell_type": "code",
   "execution_count": 20,
   "id": "43132252",
   "metadata": {},
   "outputs": [],
   "source": [
    "train_x = train.iloc[:,:-1]\n",
    "train_y = train.iloc[:,-1]"
   ]
  },
  {
   "cell_type": "code",
   "execution_count": 21,
   "id": "7becd200",
   "metadata": {},
   "outputs": [],
   "source": [
    "test_x = test.iloc[:,:-1]\n",
    "test_y = test.iloc[:,-1]"
   ]
  },
  {
   "cell_type": "code",
   "execution_count": 22,
   "id": "7aca222d",
   "metadata": {},
   "outputs": [
    {
     "name": "stdout",
     "output_type": "stream",
     "text": [
      "(826, 8)\n",
      "(154, 8)\n",
      "(826,)\n",
      "(154,)\n"
     ]
    }
   ],
   "source": [
    "print(train_x.shape)\n",
    "print(test_x.shape)\n",
    "print(train_y.shape)\n",
    "print(test_y.shape)"
   ]
  },
  {
   "cell_type": "code",
   "execution_count": 23,
   "id": "00757eea",
   "metadata": {},
   "outputs": [],
   "source": [
    "from sklearn.preprocessing import StandardScaler\n",
    "ss = StandardScaler()\n",
    "train_x_std = ss.fit_transform(train_x)                                  # fitting and transforming to normal\n",
    "test_x_std = ss.transform(test_x)"
   ]
  },
  {
   "cell_type": "markdown",
   "id": "54ce0136",
   "metadata": {},
   "source": [
    "### 1) KNN Classifier"
   ]
  },
  {
   "cell_type": "code",
   "execution_count": 24,
   "id": "b38010ee",
   "metadata": {},
   "outputs": [],
   "source": [
    "from sklearn.neighbors import KNeighborsClassifier\n",
    "from sklearn import metrics                   \n",
    "from sklearn.model_selection import GridSearchCV, RandomizedSearchCV     "
   ]
  },
  {
   "cell_type": "code",
   "execution_count": 25,
   "id": "69f77b83",
   "metadata": {},
   "outputs": [
    {
     "data": {
      "text/plain": [
       "GridSearchCV(estimator=KNeighborsClassifier(),\n",
       "             param_grid={'n_neighbors': [5, 10, 15, 25, 30, 50]})"
      ]
     },
     "execution_count": 25,
     "metadata": {},
     "output_type": "execute_result"
    }
   ],
   "source": [
    "knn=KNeighborsClassifier()\n",
    "param_grid = {'n_neighbors':[5,10,15,25,30,50]}\n",
    "grid_knn = GridSearchCV(knn,param_grid)\n",
    "grid_knn.fit(train_x_std,train_y)"
   ]
  },
  {
   "cell_type": "code",
   "execution_count": 26,
   "id": "820de121",
   "metadata": {},
   "outputs": [
    {
     "name": "stdout",
     "output_type": "stream",
     "text": [
      "Tuned Parameters==> {'n_neighbors': 5}\n"
     ]
    }
   ],
   "source": [
    "print(\"Tuned Parameters==>\",grid_knn.best_params_)"
   ]
  },
  {
   "cell_type": "code",
   "execution_count": 27,
   "id": "75870144",
   "metadata": {},
   "outputs": [],
   "source": [
    "knn = KNeighborsClassifier(n_neighbors=30)\n",
    "knn.fit(train_x_std,train_y)\n",
    "pred_y_knn=knn.predict(test_x_std)"
   ]
  },
  {
   "cell_type": "code",
   "execution_count": 28,
   "id": "c049d0d3",
   "metadata": {},
   "outputs": [
    {
     "name": "stdout",
     "output_type": "stream",
     "text": [
      "              precision    recall  f1-score   support\n",
      "\n",
      "           0       0.96      0.68      0.80        98\n",
      "           1       0.63      0.95      0.76        56\n",
      "\n",
      "    accuracy                           0.78       154\n",
      "   macro avg       0.79      0.82      0.78       154\n",
      "weighted avg       0.84      0.78      0.78       154\n",
      "\n",
      "[[67 31]\n",
      " [ 3 53]]\n"
     ]
    }
   ],
   "source": [
    "print(metrics.classification_report(test_y,pred_y_knn))\n",
    "print(metrics.confusion_matrix(test_y,pred_y_knn))"
   ]
  },
  {
   "cell_type": "code",
   "execution_count": null,
   "id": "a6601a5c",
   "metadata": {},
   "outputs": [],
   "source": []
  },
  {
   "cell_type": "code",
   "execution_count": 29,
   "id": "c827976d",
   "metadata": {},
   "outputs": [],
   "source": [
    "from sklearn.metrics import accuracy_score ,recall_score,precision_score,f1_score\n",
    "accu_knn= accuracy_score(test_y,pred_y_knn)\n",
    "recall_knn= recall_score(test_y,pred_y_knn)\n",
    "Prec_knn=precision_score(test_y,pred_y_knn)\n",
    "f1_ratio_knn=f1_score(test_y,pred_y_knn)"
   ]
  },
  {
   "cell_type": "code",
   "execution_count": 30,
   "id": "0da02999",
   "metadata": {},
   "outputs": [],
   "source": [
    "# auc = Area under curve\n",
    "# roc = receiver operating characteristic\n",
    "# threshold= the assignment of pixel values in relation to the threshold value provided.\n",
    "# In thresholding, each pixel value is compared with the threshold value. \n",
    "# If the pixel value is smaller than the threshold, it is set to 0, otherwise, it is set to a maximum value (generally 255)\n",
    "# tp= true positive rate\n",
    "# fp= false positive rate"
   ]
  },
  {
   "cell_type": "code",
   "execution_count": 31,
   "id": "244c0752",
   "metadata": {},
   "outputs": [],
   "source": [
    "from sklearn.metrics import auc\n",
    "from sklearn.metrics import roc_curve\n",
    "from sklearn.metrics import roc_auc_score"
   ]
  },
  {
   "cell_type": "code",
   "execution_count": 32,
   "id": "640d242e",
   "metadata": {},
   "outputs": [
    {
     "name": "stdout",
     "output_type": "stream",
     "text": [
      "AUC for K Nearest Neighbors :  0.8719934402332361\n"
     ]
    }
   ],
   "source": [
    "probas_pred_knn=knn.predict_proba(test_x_std)\n",
    "fpknn, tpknn, thresholdsknn = roc_curve(test_y,probas_pred_knn[:,1],pos_label=1)\n",
    "roc_auc_knn=auc(fpknn, tpknn)\n",
    "print(\"AUC for K Nearest Neighbors : \",roc_auc_knn)"
   ]
  },
  {
   "cell_type": "code",
   "execution_count": 33,
   "id": "9bffc7de",
   "metadata": {},
   "outputs": [
    {
     "name": "stdout",
     "output_type": "stream",
     "text": [
      "Accuracy= 0.7792207792207793 \n",
      "Recall_score= 0.9464285714285714 \n",
      "Precision= 0.6309523809523809 \n",
      "F1_ratio= 0.7571428571428572 \n",
      "AUC= 0.8719934402332361\n"
     ]
    }
   ],
   "source": [
    "print(\"Accuracy=\",accu_knn, \"\\nRecall_score=\",recall_knn, \"\\nPrecision=\",Prec_knn,\"\\nF1_ratio=\",f1_ratio_knn,\"\\nAUC=\",roc_auc_knn)"
   ]
  },
  {
   "cell_type": "code",
   "execution_count": 34,
   "id": "a2d98a39",
   "metadata": {},
   "outputs": [],
   "source": [
    "def plot_roc_curve(fpknn,tpknn):\n",
    "    plt.plot(fpknn,tpknn,color='green',label='ROC')\n",
    "    plt.plot([0,1],[0,1],color='black',linestyle='--')\n",
    "    plt.xlabel('False Positive Rate')\n",
    "    plt.ylabel('True Positive Rate')\n",
    "    plt.title('Receiver Operating Characteristic (ROC) Curve ')\n",
    "    plt.legend()\n",
    "    plt.show"
   ]
  },
  {
   "cell_type": "code",
   "execution_count": 35,
   "id": "7cf70584",
   "metadata": {},
   "outputs": [
    {
     "data": {
      "image/png": "[encoded data removed]",
      "text/plain": [
       "<Figure size 432x288 with 1 Axes>"
      ]
     },
     "metadata": {
      "needs_background": "light"
     },
     "output_type": "display_data"
    }
   ],
   "source": [
    " plot_roc_curve(fpknn,tpknn)"
   ]
  },
  {
   "cell_type": "markdown",
   "id": "696d16ac",
   "metadata": {},
   "source": [
    "### 2) Random Forest Classifier"
   ]
  },
  {
   "cell_type": "code",
   "execution_count": 36,
   "id": "81ed5930",
   "metadata": {},
   "outputs": [
    {
     "data": {
      "text/plain": [
       "RandomizedSearchCV(estimator=RandomForestClassifier(), n_iter=20,\n",
       "                   param_distributions={'n_estimators': [200, 500, 1000]})"
      ]
     },
     "execution_count": 36,
     "metadata": {},
     "output_type": "execute_result"
    }
   ],
   "source": [
    "from sklearn.ensemble import RandomForestClassifier\n",
    "rfc=RandomForestClassifier()\n",
    "param_grid={'n_estimators':[200,500,1000]}\n",
    "grid_rfc=RandomizedSearchCV(rfc,param_grid,n_iter=20)\n",
    "grid_rfc.fit(train_x_std,train_y)"
   ]
  },
  {
   "cell_type": "code",
   "execution_count": 37,
   "id": "271a66f2",
   "metadata": {},
   "outputs": [],
   "source": [
    " # n_iter= (number of iterations) "
   ]
  },
  {
   "cell_type": "code",
   "execution_count": 38,
   "id": "b19af669",
   "metadata": {},
   "outputs": [
    {
     "name": "stdout",
     "output_type": "stream",
     "text": [
      "Tuned Parameters==> {'n_estimators': 1000}\n"
     ]
    }
   ],
   "source": [
    "print(\"Tuned Parameters==>\",grid_rfc.best_params_)"
   ]
  },
  {
   "cell_type": "code",
   "execution_count": 39,
   "id": "2309dc90",
   "metadata": {},
   "outputs": [],
   "source": [
    "rfc=RandomForestClassifier(n_estimators=200)\n",
    "rfc.fit(train_x_std,train_y)\n",
    "pred_y_rfc=rfc.predict(test_x_std)"
   ]
  },
  {
   "cell_type": "code",
   "execution_count": 40,
   "id": "4770bfa9",
   "metadata": {},
   "outputs": [
    {
     "name": "stdout",
     "output_type": "stream",
     "text": [
      "              precision    recall  f1-score   support\n",
      "\n",
      "           0       0.87      0.81      0.84        98\n",
      "           1       0.70      0.79      0.74        56\n",
      "\n",
      "    accuracy                           0.80       154\n",
      "   macro avg       0.78      0.80      0.79       154\n",
      "weighted avg       0.81      0.80      0.80       154\n",
      "\n",
      "[[79 19]\n",
      " [12 44]]\n"
     ]
    }
   ],
   "source": [
    "print(metrics.classification_report(test_y,pred_y_rfc))\n",
    "print(metrics.confusion_matrix(test_y,pred_y_rfc))"
   ]
  },
  {
   "cell_type": "code",
   "execution_count": 41,
   "id": "bb36458c",
   "metadata": {},
   "outputs": [],
   "source": [
    "from sklearn.metrics import accuracy_score ,recall_score,precision_score,f1_score\n",
    "accu_rfc= accuracy_score(test_y,pred_y_rfc)\n",
    "recall_rfc= recall_score(test_y,pred_y_rfc)\n",
    "Prec_rfc=precision_score(test_y,pred_y_rfc)\n",
    "f1_ratio_rfc=f1_score(test_y,pred_y_rfc)"
   ]
  },
  {
   "cell_type": "code",
   "execution_count": 42,
   "id": "d5d3cf22",
   "metadata": {},
   "outputs": [
    {
     "name": "stdout",
     "output_type": "stream",
     "text": [
      "AUC for Random Forest :  0.8679846938775511\n"
     ]
    }
   ],
   "source": [
    "probas_pred_rfc=rfc.predict_proba(test_x_std)\n",
    "fprf, tprf, thresholdsrf = roc_curve(test_y,probas_pred_rfc[:,1],pos_label=1)\n",
    "roc_auc_rfc = auc(fprf, tprf)\n",
    "print(\"AUC for Random Forest : \",roc_auc_rfc)"
   ]
  },
  {
   "cell_type": "code",
   "execution_count": 43,
   "id": "f793feaf",
   "metadata": {},
   "outputs": [
    {
     "name": "stdout",
     "output_type": "stream",
     "text": [
      "Accuracy= 0.7987012987012987 \n",
      "Recall_score= 0.7857142857142857 \n",
      "Precision= 0.6984126984126984 \n",
      "F1_ratio= 0.7394957983193275 \n",
      "AUC= 0.8679846938775511\n"
     ]
    }
   ],
   "source": [
    "print(\"Accuracy=\",accu_rfc, \"\\nRecall_score=\",recall_rfc, \"\\nPrecision=\",Prec_rfc,\"\\nF1_ratio=\",f1_ratio_rfc,\"\\nAUC=\",roc_auc_rfc)"
   ]
  },
  {
   "cell_type": "code",
   "execution_count": 44,
   "id": "ee9c5a6a",
   "metadata": {},
   "outputs": [],
   "source": [
    "def plot_roc_curve(fprf,tprf):\n",
    "    plt.plot(fprf,tprf,color='red',label='ROC')\n",
    "    plt.plot([0,1],[0,1],color='black',linestyle='--')\n",
    "    plt.xlabel('False Positive Rate')\n",
    "    plt.ylabel('True Positive Rate')\n",
    "    plt.title('Receiver Operating Characteristic (ROC) Curve ')\n",
    "    plt.legend()\n",
    "    plt.show"
   ]
  },
  {
   "cell_type": "code",
   "execution_count": 45,
   "id": "8d1af221",
   "metadata": {},
   "outputs": [
    {
     "data": {
      "image/png": "[encoded data removed]",
      "text/plain": [
       "<Figure size 432x288 with 1 Axes>"
      ]
     },
     "metadata": {
      "needs_background": "light"
     },
     "output_type": "display_data"
    }
   ],
   "source": [
    "plot_roc_curve(fprf,tprf)"
   ]
  },
  {
   "cell_type": "markdown",
   "id": "978df805",
   "metadata": {},
   "source": [
    "### 3) Logistic Regression"
   ]
  },
  {
   "cell_type": "code",
   "execution_count": 46,
   "id": "96145fb4",
   "metadata": {},
   "outputs": [],
   "source": [
    "from sklearn.linear_model import LogisticRegression\n",
    "lr= LogisticRegression()"
   ]
  },
  {
   "cell_type": "code",
   "execution_count": 47,
   "id": "bd344912",
   "metadata": {},
   "outputs": [],
   "source": [
    "lr.fit(train_x_std,train_y)\n",
    "pred_y_lr=lr.predict(test_x_std)"
   ]
  },
  {
   "cell_type": "code",
   "execution_count": 48,
   "id": "0feb3428",
   "metadata": {},
   "outputs": [
    {
     "name": "stdout",
     "output_type": "stream",
     "text": [
      "              precision    recall  f1-score   support\n",
      "\n",
      "           0       0.89      0.73      0.80        98\n",
      "           1       0.64      0.84      0.73        56\n",
      "\n",
      "    accuracy                           0.77       154\n",
      "   macro avg       0.77      0.79      0.77       154\n",
      "weighted avg       0.80      0.77      0.78       154\n",
      "\n",
      "[[72 26]\n",
      " [ 9 47]]\n"
     ]
    }
   ],
   "source": [
    "print(metrics.classification_report(test_y,pred_y_lr))\n",
    "print(metrics.confusion_matrix(test_y,pred_y_lr))"
   ]
  },
  {
   "cell_type": "code",
   "execution_count": 49,
   "id": "1ecfa57b",
   "metadata": {},
   "outputs": [],
   "source": [
    "from sklearn.metrics import accuracy_score ,recall_score,precision_score,f1_score\n",
    "accu_lr= accuracy_score(test_y,pred_y_lr)\n",
    "recall_lr= recall_score(test_y,pred_y_lr)\n",
    "Prec_lr=precision_score(test_y,pred_y_lr)\n",
    "f1_ratio_lr=f1_score(test_y,pred_y_lr)"
   ]
  },
  {
   "cell_type": "code",
   "execution_count": 50,
   "id": "2565f860",
   "metadata": {},
   "outputs": [],
   "source": [
    "probas_pred_lr=lr.predict_proba(test_x_std)\n",
    "fplr, tplr, thresholdslr = roc_curve(test_y,probas_pred_lr[:,1],pos_label=1)\n",
    "roc_auc_lr=auc(fplr, tplr)"
   ]
  },
  {
   "cell_type": "code",
   "execution_count": 51,
   "id": "61a5d1fe",
   "metadata": {},
   "outputs": [
    {
     "name": "stdout",
     "output_type": "stream",
     "text": [
      "Accuracy= 0.7727272727272727 \n",
      "Recall_score= 0.8392857142857143 \n",
      "Precision= 0.6438356164383562 \n",
      "F1_ratio= 0.7286821705426357 \n",
      "AUC= 0.8620626822157433\n"
     ]
    }
   ],
   "source": [
    "print(\"Accuracy=\",accu_lr, \"\\nRecall_score=\",recall_lr, \"\\nPrecision=\",Prec_lr,\"\\nF1_ratio=\",f1_ratio_lr,\"\\nAUC=\",roc_auc_lr)"
   ]
  },
  {
   "cell_type": "code",
   "execution_count": 52,
   "id": "6a49bcfd",
   "metadata": {},
   "outputs": [],
   "source": [
    "def plot_roc_curve(fplr,tplr):\n",
    "    plt.plot(fplr,tplr,color='orange',label='ROC')\n",
    "    plt.plot([0,1],[0,1],color='darkblue',linestyle='--')\n",
    "    plt.xlabel('False Positive Rate')\n",
    "    plt.ylabel('True Positive Rate')\n",
    "    plt.title('Receiver Operating Characteristic (ROC) Curve ')\n",
    "    plt.legend()\n",
    "    plt.show"
   ]
  },
  {
   "cell_type": "code",
   "execution_count": 53,
   "id": "21634764",
   "metadata": {},
   "outputs": [
    {
     "data": {
      "image/png": "[encoded data removed]",
      "text/plain": [
       "<Figure size 432x288 with 1 Axes>"
      ]
     },
     "metadata": {
      "needs_background": "light"
     },
     "output_type": "display_data"
    }
   ],
   "source": [
    "plot_roc_curve(fplr,tplr)"
   ]
  },
  {
   "cell_type": "markdown",
   "id": "9c0843a8",
   "metadata": {},
   "source": [
    "### 4) Decision Trees"
   ]
  },
  {
   "cell_type": "code",
   "execution_count": 54,
   "id": "a24006f8",
   "metadata": {},
   "outputs": [
    {
     "data": {
      "text/plain": [
       "GridSearchCV(estimator=DecisionTreeClassifier(),\n",
       "             param_grid={'criterion': ['gini', 'entropy']})"
      ]
     },
     "execution_count": 54,
     "metadata": {},
     "output_type": "execute_result"
    }
   ],
   "source": [
    "from sklearn.tree import DecisionTreeClassifier\n",
    "dt=DecisionTreeClassifier()\n",
    "param_grid={\"criterion\":[\"gini\",\"entropy\"]}\n",
    "grid_dt=GridSearchCV(dt,param_grid)\n",
    "grid_dt.fit(train_x_std,train_y)"
   ]
  },
  {
   "cell_type": "code",
   "execution_count": 55,
   "id": "0f30a6e5",
   "metadata": {},
   "outputs": [],
   "source": [
    "dt.fit(train_x_std,train_y)\n",
    "pred_y_dt=dt.predict(test_x_std)"
   ]
  },
  {
   "cell_type": "code",
   "execution_count": 56,
   "id": "40b2665d",
   "metadata": {},
   "outputs": [
    {
     "name": "stdout",
     "output_type": "stream",
     "text": [
      "              precision    recall  f1-score   support\n",
      "\n",
      "           0       0.77      0.82      0.79        98\n",
      "           1       0.64      0.57      0.60        56\n",
      "\n",
      "    accuracy                           0.73       154\n",
      "   macro avg       0.70      0.69      0.70       154\n",
      "weighted avg       0.72      0.73      0.72       154\n",
      "\n",
      "[[80 18]\n",
      " [24 32]]\n"
     ]
    }
   ],
   "source": [
    "print(metrics.classification_report(test_y,pred_y_dt))\n",
    "print(metrics.confusion_matrix(test_y,pred_y_dt))"
   ]
  },
  {
   "cell_type": "code",
   "execution_count": 57,
   "id": "a9a0ceb6",
   "metadata": {},
   "outputs": [],
   "source": [
    "from sklearn.metrics import accuracy_score ,recall_score,precision_score,f1_score\n",
    "accu_DT= accuracy_score(test_y,pred_y_dt)\n",
    "recall_DT= recall_score(test_y,pred_y_dt)\n",
    "Prec_DT=precision_score(test_y,pred_y_dt)\n",
    "f1_ratio_DT=f1_score(test_y,pred_y_dt)"
   ]
  },
  {
   "cell_type": "code",
   "execution_count": 58,
   "id": "ff02c049",
   "metadata": {},
   "outputs": [],
   "source": [
    "probas_pred_dt=dt.predict_proba(test_x_std)\n",
    "fpdt, tpdt, thresholdsdt = roc_curve(test_y,probas_pred_dt[:,1],pos_label=1)\n",
    "roc_auc_dt=auc(fpdt, tpdt)"
   ]
  },
  {
   "cell_type": "code",
   "execution_count": 59,
   "id": "fe0d811b",
   "metadata": {},
   "outputs": [
    {
     "name": "stdout",
     "output_type": "stream",
     "text": [
      "Accuracy= 0.7272727272727273 \n",
      "Recall_score= 0.5714285714285714 \n",
      "Precision= 0.64 \n",
      "F1_ratio= 0.6037735849056605 \n",
      "AUC= 0.6938775510204082\n"
     ]
    }
   ],
   "source": [
    "print(\"Accuracy=\",accu_DT, \"\\nRecall_score=\",recall_DT, \"\\nPrecision=\",Prec_DT,\"\\nF1_ratio=\",f1_ratio_DT,\"\\nAUC=\",roc_auc_dt)"
   ]
  },
  {
   "cell_type": "code",
   "execution_count": 60,
   "id": "e68377ca",
   "metadata": {},
   "outputs": [],
   "source": [
    "probas_pred_dt=dt.predict_proba(test_x_std)\n",
    "fpdt, tpdt, thresholdsdt = roc_curve(test_y,probas_pred_dt[:,1],pos_label=1)\n",
    "roc_auc_DT=auc(fpdt, tpdt)"
   ]
  },
  {
   "cell_type": "code",
   "execution_count": 61,
   "id": "49b0c64b",
   "metadata": {},
   "outputs": [],
   "source": [
    "def plot_roc_curve(fpdt,tpdt):\n",
    "    plt.plot(fpdt,tpdt,color='grey',label='ROC')\n",
    "    plt.plot([0,1],[0,1],color='darkblue',linestyle='--')\n",
    "    plt.xlabel('False Positive Rate')\n",
    "    plt.ylabel('True Positive Rate')\n",
    "    plt.title('Receiver Operating Characteristic (ROC) Curve ')\n",
    "    plt.legend()\n",
    "    plt.show\n"
   ]
  },
  {
   "cell_type": "code",
   "execution_count": 62,
   "id": "e766bc22",
   "metadata": {},
   "outputs": [
    {
     "data": {
      "image/png": "[encoded data removed]",
      "text/plain": [
       "<Figure size 432x288 with 1 Axes>"
      ]
     },
     "metadata": {
      "needs_background": "light"
     },
     "output_type": "display_data"
    }
   ],
   "source": [
    "plot_roc_curve(fpdt,tpdt)"
   ]
  },
  {
   "cell_type": "code",
   "execution_count": 63,
   "id": "b32b2bcb",
   "metadata": {},
   "outputs": [
    {
     "data": {
      "image/png": "[encoded data removed]",
      "text/plain": [
       "<Figure size 432x288 with 1 Axes>"
      ]
     },
     "metadata": {
      "needs_background": "light"
     },
     "output_type": "display_data"
    }
   ],
   "source": [
    "plt.plot(fpknn,tpknn,color='green',label='KNN')\n",
    "plt.plot(fprf,tprf,color='red',label='Random Forest')\n",
    "plt.plot(fplr,tplr,color='blue',label='Logistic Regression')\n",
    "plt.plot(fpdt,tpdt,color='grey',label='Decision Tree')\n",
    "plt.plot([0,1],[0,1],color='black',linestyle='--')\n",
    "plt.xlabel('False Positive Rate')\n",
    "plt.ylabel('True Positive Rate')\n",
    "plt.title('Receiver Operating Characteristic (ROC) Curve ')\n",
    "plt.legend()\n",
    "plt.show\n",
    "plt.legend(loc='best')\n",
    "plt.savefig('ROC',dpi=300)\n",
    "plt.show();"
   ]
  },
  {
   "cell_type": "code",
   "execution_count": 64,
   "id": "6354ff50",
   "metadata": {},
   "outputs": [
    {
     "data": {
      "text/html": [
       "<style type=\"text/css\">\n",
       "#T_84313_row0_col0, #T_84313_row0_col1, #T_84313_row0_col2, #T_84313_row0_col3, #T_84313_row0_col4, #T_84313_row0_col5, #T_84313_row1_col0, #T_84313_row1_col1, #T_84313_row1_col2, #T_84313_row1_col3, #T_84313_row1_col4, #T_84313_row1_col5, #T_84313_row2_col0, #T_84313_row2_col1, #T_84313_row2_col2, #T_84313_row2_col3, #T_84313_row2_col4, #T_84313_row2_col5, #T_84313_row3_col0, #T_84313_row3_col1, #T_84313_row3_col2, #T_84313_row3_col3, #T_84313_row3_col4, #T_84313_row3_col5 {\n",
       "  text-align: left;\n",
       "}\n",
       "</style>\n",
       "<table id=\"T_84313\">\n",
       "  <thead>\n",
       "    <tr>\n",
       "      <th class=\"blank level0\" >&nbsp;</th>\n",
       "      <th id=\"T_84313_level0_col0\" class=\"col_heading level0 col0\" >Model</th>\n",
       "      <th id=\"T_84313_level0_col1\" class=\"col_heading level0 col1\" >Accuracy</th>\n",
       "      <th id=\"T_84313_level0_col2\" class=\"col_heading level0 col2\" >AUC</th>\n",
       "      <th id=\"T_84313_level0_col3\" class=\"col_heading level0 col3\" >Recall</th>\n",
       "      <th id=\"T_84313_level0_col4\" class=\"col_heading level0 col4\" >Precision</th>\n",
       "      <th id=\"T_84313_level0_col5\" class=\"col_heading level0 col5\" >F1_ratio</th>\n",
       "    </tr>\n",
       "  </thead>\n",
       "  <tbody>\n",
       "    <tr>\n",
       "      <th id=\"T_84313_level0_row0\" class=\"row_heading level0 row0\" >0</th>\n",
       "      <td id=\"T_84313_row0_col0\" class=\"data row0 col0\" >K-Nearest Neighbours</td>\n",
       "      <td id=\"T_84313_row0_col1\" class=\"data row0 col1\" >0.779221</td>\n",
       "      <td id=\"T_84313_row0_col2\" class=\"data row0 col2\" >0.871993</td>\n",
       "      <td id=\"T_84313_row0_col3\" class=\"data row0 col3\" >0.946429</td>\n",
       "      <td id=\"T_84313_row0_col4\" class=\"data row0 col4\" >0.630952</td>\n",
       "      <td id=\"T_84313_row0_col5\" class=\"data row0 col5\" >0.757143</td>\n",
       "    </tr>\n",
       "    <tr>\n",
       "      <th id=\"T_84313_level0_row1\" class=\"row_heading level0 row1\" >1</th>\n",
       "      <td id=\"T_84313_row1_col0\" class=\"data row1 col0\" >Random Forest</td>\n",
       "      <td id=\"T_84313_row1_col1\" class=\"data row1 col1\" >0.798701</td>\n",
       "      <td id=\"T_84313_row1_col2\" class=\"data row1 col2\" >0.867985</td>\n",
       "      <td id=\"T_84313_row1_col3\" class=\"data row1 col3\" >0.785714</td>\n",
       "      <td id=\"T_84313_row1_col4\" class=\"data row1 col4\" >0.698413</td>\n",
       "      <td id=\"T_84313_row1_col5\" class=\"data row1 col5\" >0.739496</td>\n",
       "    </tr>\n",
       "    <tr>\n",
       "      <th id=\"T_84313_level0_row2\" class=\"row_heading level0 row2\" >2</th>\n",
       "      <td id=\"T_84313_row2_col0\" class=\"data row2 col0\" >Logistic</td>\n",
       "      <td id=\"T_84313_row2_col1\" class=\"data row2 col1\" >0.772727</td>\n",
       "      <td id=\"T_84313_row2_col2\" class=\"data row2 col2\" >0.862063</td>\n",
       "      <td id=\"T_84313_row2_col3\" class=\"data row2 col3\" >0.839286</td>\n",
       "      <td id=\"T_84313_row2_col4\" class=\"data row2 col4\" >0.643836</td>\n",
       "      <td id=\"T_84313_row2_col5\" class=\"data row2 col5\" >0.728682</td>\n",
       "    </tr>\n",
       "    <tr>\n",
       "      <th id=\"T_84313_level0_row3\" class=\"row_heading level0 row3\" >3</th>\n",
       "      <td id=\"T_84313_row3_col0\" class=\"data row3 col0\" >Decision Tress</td>\n",
       "      <td id=\"T_84313_row3_col1\" class=\"data row3 col1\" >0.727273</td>\n",
       "      <td id=\"T_84313_row3_col2\" class=\"data row3 col2\" >0.693878</td>\n",
       "      <td id=\"T_84313_row3_col3\" class=\"data row3 col3\" >0.571429</td>\n",
       "      <td id=\"T_84313_row3_col4\" class=\"data row3 col4\" >0.640000</td>\n",
       "      <td id=\"T_84313_row3_col5\" class=\"data row3 col5\" >0.603774</td>\n",
       "    </tr>\n",
       "  </tbody>\n",
       "</table>\n"
      ],
      "text/plain": [
       "<pandas.io.formats.style.Styler at 0x1aac18b3730>"
      ]
     },
     "execution_count": 64,
     "metadata": {},
     "output_type": "execute_result"
    }
   ],
   "source": [
    "data={'Model':['K-Nearest Neighbours','Random Forest','Logistic','Decision Tress'],\n",
    "      'Accuracy':[accu_knn,accu_rfc,accu_lr,accu_DT],\n",
    "      'AUC':[roc_auc_knn,roc_auc_rfc,roc_auc_lr,roc_auc_DT],\n",
    "      'Recall':[recall_knn,recall_rfc,recall_lr,recall_DT],\n",
    "      'Precision':[Prec_knn,Prec_rfc,Prec_lr,Prec_DT],\n",
    "      'F1_ratio':[f1_ratio_knn,f1_ratio_rfc,f1_ratio_lr,f1_ratio_DT]}\n",
    "df=pd.DataFrame(data)\n",
    "df_new=df.style.set_properties(**{'text-align':'left'})\n",
    "df_new"
   ]
  },
  {
   "cell_type": "code",
   "execution_count": 65,
   "id": "272219e0",
   "metadata": {},
   "outputs": [
    {
     "data": {
      "text/plain": [
       "array([0.08387231, 0.24903839, 0.08653829, 0.0829526 , 0.0785266 ,\n",
       "       0.16990828, 0.11917689, 0.12998664])"
      ]
     },
     "execution_count": 65,
     "metadata": {},
     "output_type": "execute_result"
    }
   ],
   "source": [
    "rfc.feature_importances_"
   ]
  },
  {
   "cell_type": "code",
   "execution_count": 66,
   "id": "b54fc84e",
   "metadata": {},
   "outputs": [],
   "source": [
    "x=pd.DataFrame(columns=['Pregnancies','Glucose','BloodPressure','SkinThickness','Insulin','BMI','DiabetesPedigreeFunction','Age'])"
   ]
  },
  {
   "cell_type": "code",
   "execution_count": 67,
   "id": "6fcd86f5",
   "metadata": {},
   "outputs": [
    {
     "data": {
      "text/plain": [
       "<Axes: >"
      ]
     },
     "execution_count": 67,
     "metadata": {},
     "output_type": "execute_result"
    },
    {
     "data": {
      "image/png": "[encoded data removed]",
      "text/plain": [
       "<Figure size 432x288 with 1 Axes>"
      ]
     },
     "metadata": {
      "needs_background": "light"
     },
     "output_type": "display_data"
    }
   ],
   "source": [
    "(pd.Series(rfc.feature_importances_, index=x.columns).plot(kind='barh'))"
   ]
  },
  {
   "cell_type": "markdown",
   "id": "a0200599",
   "metadata": {},
   "source": [
    "* From the above graph, it is clearly visible that Glucose is the feature which majorly affect the diabetes."
   ]
  },
  {
   "cell_type": "markdown",
   "id": "45de319d",
   "metadata": {},
   "source": [
    "## Conclusion: \n",
    "* From the above comparison ,K-NN is the best classifier for the following data,It shows the highest f1 score. dataset is imbalance so f1 score is more approprite metric.\n",
    "\n",
    "* Glucose is the main feature which majorly affect the diabetes. \n",
    "* This project gives an idea to control the diabetes based on different predictors."
   ]
  },
  {
   "cell_type": "code",
   "execution_count": null,
   "id": "c961dc8a",
   "metadata": {},
   "outputs": [],
   "source": []
  }
 ],
 "metadata": {
  "kernelspec": {
   "display_name": "Python 3 (ipykernel)",
   "language": "python",
   "name": "python3"
  },
  "language_info": {
   "codemirror_mode": {
    "name": "ipython",
    "version": 3
   },
   "file_extension": ".py",
   "mimetype": "text/x-python",
   "name": "python",
   "nbconvert_exporter": "python",
   "pygments_lexer": "ipython3",
   "version": "3.9.12"
  }
 },
 "nbformat": 4,
 "nbformat_minor": 5
}
